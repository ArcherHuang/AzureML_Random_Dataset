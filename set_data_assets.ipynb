{
  "cells": [
    {
      "cell_type": "markdown",
      "metadata": {
        "nteract": {
          "transient": {
            "deleting": false
          }
        }
      },
      "source": [
        "# 依 csv 取得對應檔案在 Azure Blob 的 URL"
      ]
    },
    {
      "cell_type": "code",
      "execution_count": null,
      "metadata": {
        "gather": {
          "logged": 1684120061033
        }
      },
      "outputs": [],
      "source": [
        "import pandas as pd\n",
        "\n",
        "base_url = \"https://randomdatasets.blob.core.windows.net/\"\n",
        "\n",
        "train_csv = pd.read_csv('train.csv')\n",
        "test_csv = pd.read_csv('test.csv')\n",
        "\n",
        "train_data = train_csv.values.tolist()\n",
        "test_data = test_csv.values.tolist()\n",
        "\n",
        "train_data_files = []\n",
        "test_data_files = []\n",
        "\n",
        "for row in train_data:\n",
        "#   print(f\"Train file: {row[0]}\")\n",
        "  train_data_files.append(f\"{base_url}{row[0]}\")\n",
        "print(f\"train_data_files: {train_data_files}\")\n",
        "\n",
        "for row in test_data:\n",
        "#   print(f\"Test file: {row[0]}\")\n",
        "  test_data_files.append(f\"{base_url}{row[0]}\")\n",
        "print(f\"\\ntest_data_files: {test_data_files}\")"
      ]
    },
    {
      "cell_type": "markdown",
      "metadata": {
        "nteract": {
          "transient": {
            "deleting": false
          }
        }
      },
      "source": [
        "# 依 csv 設定 AzureML Data Assets"
      ]
    },
    {
      "cell_type": "code",
      "execution_count": null,
      "metadata": {
        "gather": {
          "logged": 1684120185608
        },
        "jupyter": {
          "outputs_hidden": false,
          "source_hidden": false
        },
        "nteract": {
          "transient": {
            "deleting": false
          }
        }
      },
      "outputs": [],
      "source": [
        "from azureml.core import (\n",
        "    Workspace,\n",
        "    Dataset,\n",
        ")\n",
        "\n",
        "workspace = Workspace.from_config()\n",
        "print(f\"workspace: {workspace}\")\n",
        "\n",
        "train_img_datas = Dataset.File.from_files(train_data_files)\n",
        "dataset = train_img_datas.register(workspace=workspace,\n",
        "                                   name=\"train_data_web_data\",\n",
        "                                   create_new_version = True)\n",
        "\n",
        "test_img_datas = Dataset.File.from_files(test_data_files)\n",
        "dataset = test_img_datas.register(workspace=workspace,\n",
        "                                  name=\"test_data_web_data\",\n",
        "                                  create_new_version = True)"
      ]
    }
  ],
  "metadata": {
    "kernel_info": {
      "name": "python38-azureml"
    },
    "kernelspec": {
      "display_name": "Python 3.8 - AzureML",
      "language": "python",
      "name": "python38-azureml"
    },
    "language_info": {
      "codemirror_mode": {
        "name": "ipython",
        "version": 3
      },
      "file_extension": ".py",
      "mimetype": "text/x-python",
      "name": "python",
      "nbconvert_exporter": "python",
      "pygments_lexer": "ipython3",
      "version": "3.8.5"
    },
    "microsoft": {
      "host": {
        "AzureML": {
          "notebookHasBeenCompleted": true
        }
      },
      "ms_spell_check": {
        "ms_spell_check_language": "en"
      }
    },
    "nteract": {
      "version": "nteract-front-end@1.0.0"
    }
  },
  "nbformat": 4,
  "nbformat_minor": 2
}
